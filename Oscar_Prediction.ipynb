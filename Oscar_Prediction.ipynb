{
 "cells": [
  {
   "cell_type": "code",
   "execution_count": 1,
   "id": "64aae191",
   "metadata": {},
   "outputs": [
    {
     "data": {
      "application/vnd.jupyter.widget-view+json": {
       "model_id": "",
       "version_major": 2,
       "version_minor": 0
      },
      "method": "display_data"
     },
     "metadata": {},
     "output_type": "display_data"
    },
    {
     "data": {
      "application/vnd.jupyter.widget-view+json": {
       "model_id": "ecc94e78-5e55-4c0b-89bf-ac29b0aa35d7",
       "version_major": 2,
       "version_minor": 0
      },
      "method": "display_data"
     },
     "metadata": {},
     "output_type": "display_data"
    }
   ],
   "source": [
    "%classpath add mvn org.apache.spark spark-sql_2.11 2.4.4\n"
   ]
  },
  {
   "cell_type": "code",
   "execution_count": null,
   "id": "0d054d11",
   "metadata": {},
   "outputs": [
    {
     "data": {
      "application/vnd.jupyter.widget-view+json": {
       "model_id": "",
       "version_major": 2,
       "version_minor": 0
      },
      "method": "display_data"
     },
     "metadata": {},
     "output_type": "display_data"
    },
    {
     "data": {
      "application/vnd.jupyter.widget-view+json": {
       "model_id": "05a5cf69-190b-4708-ac52-aec85a89d7bb",
       "version_major": 2,
       "version_minor": 0
      },
      "method": "display_data"
     },
     "metadata": {},
     "output_type": "display_data"
    }
   ],
   "source": [
    "%classpath add mvn org.apache.spark spark-mllib_2.11 2.4.4\n"
   ]
  },
  {
   "cell_type": "code",
   "execution_count": 3,
   "id": "7843f1c2",
   "metadata": {},
   "outputs": [
    {
     "data": {
      "text/plain": [
       "org.apache.spark.SparkContext@7d61ffc1"
      ]
     },
     "execution_count": 3,
     "metadata": {},
     "output_type": "execute_result"
    }
   ],
   "source": [
    "import org.apache.spark.sql.SparkSession\n",
    "\n",
    "val spark = SparkSession.builder()\n",
    "                        .appName(\"Oscar Prediction App\")\n",
    "                        .master(\"local[2]\")\n",
    "                        .config(\"spark.ui.enabled\", \"false\")\n",
    "                        .getOrCreate()\n",
    "val sc = spark.sparkContext"
   ]
  },
  {
   "cell_type": "code",
   "execution_count": 4,
   "id": "ba09d977",
   "metadata": {},
   "outputs": [
    {
     "data": {
      "text/plain": [
       "[Year: int, Movie: string ... 59 more fields]"
      ]
     },
     "execution_count": 4,
     "metadata": {},
     "output_type": "execute_result"
    }
   ],
   "source": [
    "val oscarDF = spark.read\n",
    "  .option(\"header\", \"true\")\n",
    "  .option(\"inferSchema\", \"true\")\n",
    "  .csv(\"data/movie_data.csv\")  "
   ]
  },
  {
   "cell_type": "code",
   "execution_count": 5,
   "id": "6ad1da3d",
   "metadata": {
    "scrolled": true
   },
   "outputs": [
    {
     "name": "stdout",
     "output_type": "stream",
     "text": [
      "root\n",
      " |-- Year: integer (nullable = true)\n",
      " |-- Movie: string (nullable = true)\n",
      " |-- Oscar_winner: integer (nullable = true)\n",
      " |-- Oscar_nominee: integer (nullable = true)\n",
      " |-- Runtime (min): integer (nullable = true)\n",
      " |-- Certificate: string (nullable = true)\n",
      " |-- Directors: string (nullable = true)\n",
      " |-- Actors: string (nullable = true)\n",
      " |-- Metascore: string (nullable = true)\n",
      " |-- IMDb_rating: string (nullable = true)\n",
      " |-- IMDb_votes: string (nullable = true)\n",
      " |-- RT_rating: double (nullable = true)\n",
      " |-- RT_review: double (nullable = true)\n",
      " |-- Budget: integer (nullable = true)\n",
      " |-- Domestic (US) gross: integer (nullable = true)\n",
      " |-- International gross: integer (nullable = true)\n",
      " |-- Worldwide gross: long (nullable = true)\n",
      " |-- Genre: string (nullable = true)\n",
      " |-- Action: string (nullable = true)\n",
      " |-- Adventure: string (nullable = true)\n",
      " |-- Animation: string (nullable = true)\n",
      " |-- Biography: integer (nullable = true)\n",
      " |-- Comedy: integer (nullable = true)\n",
      " |-- Crime: integer (nullable = true)\n",
      " |-- Drama: integer (nullable = true)\n",
      " |-- Family: integer (nullable = true)\n",
      " |-- Fantasy: integer (nullable = true)\n",
      " |-- History: integer (nullable = true)\n",
      " |-- Horror: integer (nullable = true)\n",
      " |-- Musical: integer (nullable = true)\n",
      " |-- Mystery: integer (nullable = true)\n",
      " |-- Romance: integer (nullable = true)\n",
      " |-- Sci-Fi: integer (nullable = true)\n",
      " |-- Sport: integer (nullable = true)\n",
      " |-- Thriller: integer (nullable = true)\n",
      " |-- War: integer (nullable = true)\n",
      " |-- Western: integer (nullable = true)\n",
      " |-- BAFTA_winner: integer (nullable = true)\n",
      " |-- BAFTA_nominee: integer (nullable = true)\n",
      " |-- DGA_winner: integer (nullable = true)\n",
      " |-- DGA_nominee: integer (nullable = true)\n",
      " |-- GG_comedy_winner: integer (nullable = true)\n",
      " |-- GG_comedy_nominee: integer (nullable = true)\n",
      " |-- GG_drama_winner: integer (nullable = true)\n",
      " |-- GG_drama_nominee: integer (nullable = true)\n",
      " |-- PGA_winner: integer (nullable = true)\n",
      " |-- PGA_nominee: integer (nullable = true)\n",
      " |-- CCMA_winner: integer (nullable = true)\n",
      " |-- CCMA_nominee: integer (nullable = true)\n",
      " |-- Golden_Palm_winner: integer (nullable = true)\n",
      " |-- Golden_Palm_nominee: integer (nullable = true)\n",
      " |-- Golden_Bear_winner: integer (nullable = true)\n",
      " |-- Golden_Bear_nominee: integer (nullable = true)\n",
      " |-- Golden_Lion_winner: integer (nullable = true)\n",
      " |-- Golden_Lion_nominee: integer (nullable = true)\n",
      " |-- PCA_winner: integer (nullable = true)\n",
      " |-- PCA_nominee: integer (nullable = true)\n",
      " |-- NYFCC_winner: integer (nullable = true)\n",
      " |-- NYFCC_nominee: integer (nullable = true)\n",
      " |-- OFCS_winner: integer (nullable = true)\n",
      " |-- OFCS_nominee: integer (nullable = true)\n",
      "\n"
     ]
    }
   ],
   "source": [
    "oscarDF.printSchema\n"
   ]
  },
  {
   "cell_type": "code",
   "execution_count": null,
   "id": "b6136789",
   "metadata": {},
   "outputs": [
    {
     "data": {
      "text/plain": [
       "[Oscar_winner: int, Genre: string ... 1 more field]"
      ]
     },
     "execution_count": 7,
     "metadata": {},
     "output_type": "execute_result"
    }
   ],
   "source": [
    "\n"
   ]
  },
  {
   "cell_type": "code",
   "execution_count": null,
   "id": "ad06449d",
   "metadata": {},
   "outputs": [],
   "source": []
  },
  {
   "cell_type": "code",
   "execution_count": null,
   "id": "407470c4",
   "metadata": {},
   "outputs": [
    {
     "data": {
      "text/plain": [
       "[[List(0, Sci-Fi,Thriller,, 2), List(0, Action,Drama,Sport, 3), List(0, Drama,History,Music, 1), List(0, Mystery,Thriller,, 9), List(0, Comedy,Drama,Family, 4), List(0, Action,Drama,Family, 2), List(0, Animation,Comedy,Fantasy, 1), List(0, Biography,Drama,Music, 6), List(0, Drama,Fantasy,Mystery, 3), List(0, Action,Adventure,Comedy, 56), List(0, Drama,Romance,Sci-Fi, 7), List(0, 80147166, 1), List(0, Action,Drama,Sci-Fi, 9), List(0, Crime,Mystery,Thriller, 8), List(0, Crime,Drama,Western, 1), List(0, Crime,Drama,Fantasy, 1), List(0, Drama,History,Thriller, 8), List(0, Crime,Drama,Musical, 1), List(0, Drama,Fantasy,Sport, 1), List(0, Action,Crime,, 2), List(0, Comedy,Drama,Fantasy, 14), List(0, Drama,Fantasy,Horror, 12), List(0, Action,Drama,History, 12), List(0, 102427862, 1), List(0, Action,Horror,Thriller, 5), List(1, Adventure,Drama,Fantasy, 2), List(0, Comedy,Drama,Thriller, 1), List(0, Adventure,Comedy,Music, 1), List(0, Comedy,Drama,Musical, 4), List(0, 90376224, 1), List(0, 1346913161, 1), List(0, Drama,Mystery,Sci-Fi, 13), List(0, Action,Comedy,War, 1), List(0, Action,Horror,Mystery, 1), List(0, Crime,Romance,Thriller, 1), List(0, Adventure,Sci-Fi,Thriller, 2), List(0, Drama,Horror,Romance, 1), List(0, Comedy,Fantasy,Sci-Fi, 1), List(0, Adventure,Drama,Fantasy, 11), List(0, Drama,Sci-Fi,Thriller, 9), List(0, Comedy,Western,, 1), List(0, Adventure,Family,Fantasy, 22), List(0, Action,Drama,Romance, 2), List(0, Horror,Music,Thriller, 1), List(0, Comedy,Drama,, 44), List(0, Drama,Horror,Mystery, 19), List(0, Action,Adventure,Fantasy, 55), List(0, 4490134, 1), List(0, Comedy,Drama,Mystery, 4), List(0, Action,Comedy,Drama, 2), List(1, Drama,,, 2), List(0, Action,Adventure,History, 3), List(0, Comedy,Horror,Romance, 1), List(0, Action,Comedy,Thriller, 3), List(1, Action,Adventure,Drama, 1), List(0, Action,Crime,Romance, 1), List(0, Action,Mystery,Sci-Fi, 4), List(0, Drama,Musical,Romance, 2), List(0, Crime,Drama,Music, 1), List(0, Drama,Fantasy,Music, 1), List(0, Action,Adventure,Thriller, 22), List(0, Comedy,Crime,Romance, 4), List(0, 56797392, 1), List(0, Action,Comedy,Sport, 1), List(0, Action,Adventure,Horror, 5), List(0, Comedy,Drama,Romance, 74), List(0, Action,Comedy,Crime, 39), List(0, 85911226, 1), List(1, Biography,Drama,, 1), List(0, Drama,Music,Romance, 5), List(0, Adventure,Biography,Drama, 4), List(1, Comedy,Drama,Thriller, 1), List(0, Comedy,Drama,Sci-Fi, 2), List(0, Comedy,Romance,Thriller, 1), List(0, Action,Crime,Thriller, 37), List(0, Comedy,Crime,Sport, 1), List(0, Adventure,Comedy,Fantasy, 1), List(0, Drama,Music,, 5), List(0, Action,Fantasy,Thriller, 4), List(0, Adventure,Drama,Musical, 1), List(0, Action,Crime,Sci-Fi, 3), List(0, Action,Adventure,Family, 12), List(0, Action,Crime,Mystery, 1), List(0, Action,Drama,, 4), List(0, Animation,Drama,Family, 3), List(0, Biography,Drama,Musical, 1), List(0, Action,Drama,Thriller, 21), List(0, Comedy,Horror,, 9), List(0, Adventure,Comedy,Drama, 16), List(0, Crime,Drama,Thriller, 40), List(1, Crime,Drama,Thriller, 3), List(0, Action,Comedy,Sci-Fi, 4), List(0, Drama,War,, 6), List(0, Comedy,Horror,Sci-Fi, 2), List(0, Action,Adventure,Western, 1), List(0, Animation,Adventure,Family, 9), List(0, Fantasy,Horror,Mystery, 5), List(0, Adventure,Comedy,Crime, 4), List(0, Crime,Horror,Mystery, 5), List(0, Adventure,Crime,Drama, 2), List(0, Action,Comedy,Fantasy, 6), List(0, Action,Fantasy,, 1), List(1, Drama,Sport,, 1), List(1, Drama,Romance,, 1), List(0, Animation,Action,Comedy, 2), List(0, 42587643, 1), List(0, Action,Crime,Fantasy, 3), List(0, Biography,Drama,, 25), List(0, Action,Fantasy,Horror, 10), List(0, Horror,Sci-Fi,Thriller, 5), List(0, Biography,Drama,Family, 2), List(0, Drama,Romance,, 49), List(0, Action,Adventure,Sci-Fi, 89), List(0, Comedy,Family,, 4), List(0, Animation,Biography,Drama, 1), List(0, Drama,Horror,Sci-Fi, 8), List(0, Comedy,Romance,, 66), List(0, Drama,Thriller,, 25), List(0, Comedy,Drama,War, 2), List(0, 115637895, 1), List(0, 145026640, 1), List(0, Adventure,Drama,Mystery, 2), List(0, Action,Comedy,Horror, 3), List(0, Drama,Thriller,War, 3), List(0, Action,Adventure,, 4), List(1, Biography,Drama,History, 2), List(0, Horror,Thriller,, 19), List(0, Crime,Drama,Sport, 1), List(0, Drama,Fantasy,War, 1), List(0, Comedy,Drama,Music, 13), List(0, 80631, 1), List(0, Animation,Drama,Fantasy, 3), List(0, Drama,Fantasy,History, 2), List(0, 14558937, 1), List(0, Action,Horror,, 2), List(0, Mystery,Sci-Fi,Thriller, 1), List(0, Action,Adventure,Romance, 2), List(0, Action,Fantasy,Sci-Fi, 1), List(0, Crime,Mystery,Sci-Fi, 1), List(0, Crime,Drama,Romance, 2), List(0, Comedy,Family,Romance, 3), List(0, Adventure,Drama,History, 2), List(1, Biography,Comedy,Drama, 1), List(0, Comedy,Fantasy,Music, 1), List(0, Crime,Drama,Horror, 4), List(0, Animation,Action,Adventure, 24), List(0, 248757044, 1), List(0, Drama,Family,, 5), List(0, Crime,Drama,History, 2), List(0, Drama,Fantasy,Romance, 9), List(0, Comedy,Family,Sport, 1), List(0, Animation,Adventure,Drama, 2), List(0, Action,Drama,Fantasy, 5), List(0, 45863000, 1), List(0, Horror,Mystery,Thriller, 40), List(0, 16083005, 1), List(0, Drama,Horror,Thriller, 5), List(0, Action,Crime,Drama, 52), List(0, Adventure,Comedy,, 6), List(0, Adventure,Drama,Sci-Fi, 4), List(0, Action,Adventure,Crime, 21), List(0, Adventure,Horror,Thriller, 1), List(0, Comedy,Romance,Sci-Fi, 1), List(0, Comedy,Crime,Fantasy, 1), List(0, Comedy,Drama,History, 2), List(0, Crime,Drama,, 15), List(0, Action,Biography,Drama, 12), List(1, Comedy,Drama,Romance, 1), List(0, Horror,Mystery,Sci-Fi, 1), List(0, Drama,Romance,Thriller, 6), List(0, 76665507, 1), List(0, Animation,Crime,Drama, 1), List(0, Comedy,Musical,Romance, 2), List(0, 33047633, 1), List(0, Action,Biography,Comedy, 1), List(0, Biography,Drama,Sport, 9), List(0, 81697192, 1), List(0, Comedy,War,, 1), List(0, Comedy,Crime,Drama, 19), List(0, 20695413, 1), List(0, Comedy,Fantasy,, 6), List(0, Adventure,Comedy,Family, 17), List(0, Action,Drama,Horror, 1), List(0, Drama,Mystery,, 3), List(0, 161197785, 1), List(0, Drama,Sci-Fi,, 3), List(0, Drama,Fantasy,Thriller, 1), List(0, 58657005, 1), List(0, Animation,Biography,Crime, 1), List(0, Biography,Drama,History, 20), List(0, Fantasy,Mystery,Romance, 1), List(0, Action,Mystery,Thriller, 10), List(0, Action,Comedy,Mystery, 1), List(0, Drama,Romance,War, 1), List(0, Drama,Sport,, 6), List(0, Comedy,Family,Fantasy, 10), List(0, Action,Sci-Fi,Thriller, 17), List(0, Biography,Drama,Romance, 8), List(0, 24148068, 1), List(1, Biography,Crime,Drama, 1), List(0, 11599903, 1), List(0, Drama,Music,Musical, 1), List(0, Drama,Romance,Sport, 1), List(0, Drama,Family,Fantasy, 3), List(0, 39568572, 1), List(0, Comedy,Music,, 5), List(0, Comedy,Romance,Sport, 3), List(1, Drama,Thriller,War, 1), List(0, Drama,Mystery,War, 1), List(0, Comedy,,, 70), List(0, Horror,Mystery,, 10), List(0, Biography,Drama,Thriller, 2), List(0, Action,Comedy,, 4), List(0, Action,Drama,Mystery, 7), List(0, Drama,Fantasy,, 1), List(0, Drama,Mystery,Romance, 10), List(0, 13472307, 1), List(0, 10561196, 1), List(0, Comedy,Sport,, 6), List(0, Comedy,Sci-Fi,, 4), List(0, Fantasy,Mystery,Thriller, 1), List(0, Adventure,Fantasy,, 3), List(0, Fantasy,Horror,Thriller, 1), List(0, Comedy,Fantasy,Romance, 8), List(0, Family,Fantasy,Musical, 1), List(0, 81578, 1), List(0, Action,Adventure,Drama, 38), List(0, Action,Comedy,Family, 1), List(0, Drama,History,, 2), List(0, 175084580, 1), List(0, Drama,Horror,, 5), List(0, Animation,Adventure,Comedy, 76), List(0, Drama,History,Romance, 1), List(0, Horror,Sci-Fi,, 3), List(0, Action,Adventure,Biography, 4), List(0, Comedy,Music,Romance, 3), List(0, Adventure,Comedy,Sci-Fi, 4), List(0, Action,Biography,Crime, 2), List(0, Comedy,Fantasy,Horror, 4), List(0, Comedy,Horror,Mystery, 1), List(0, Comedy,Crime,Mystery, 1), List(0, Adventure,Mystery,Sci-Fi, 1), List(0, 69488745, 1), List(0, Drama,Mystery,Thriller, 20), List(0, 235900000, 1), List(0, Action,Thriller,, 34), List(0, Comedy,Mystery,Sci-Fi, 1), List(0, Action,Horror,Sci-Fi, 16), List(0, 21890189, 1), List(0, Action,Sci-Fi,, 11), List(0, Comedy,Crime,, 16), List(0, Adventure,Drama,Horror, 2), List(0, Romance,Sci-Fi,Thriller, 1), List(1, Biography,Drama,Thriller, 1), List(0, Action,Adventure,Mystery, 4), List(0, Crime,Horror,Thriller, 1), List(0, Action,War,, 1), List(0, Crime,Thriller,, 6), List(0, 1028570889, 1), List(0, Drama,History,Musical, 1), List(0, Biography,Comedy,Crime, 3), List(0, Action,Drama,War, 5), List(0, Adventure,Horror,Mystery, 1), List(0, Biography,Crime,Drama, 24), List(0, Drama,History,War, 3), List(0, Drama,Musical,Thriller, 1), List(1, Comedy,Crime,Musical, 1), List(0, Crime,Drama,Mystery, 35), List(0, 36249674, 1), List(0, Drama,Fantasy,Sci-Fi, 1), List(0, Adventure,Drama,Family, 1), List(0, Adventure,Drama,Thriller, 1), List(0, Adventure,Drama,Romance, 3), List(0, Biography,Comedy,Drama, 14), List(0, Animation,Comedy,Drama, 3), List(0, Drama,,, 49), List(0, Adventure,Fantasy,Horror, 1), List(0, Drama,Western,, 3), List(0, Action,Comedy,Romance, 3), List(0, 58032443, 1), List(0, Drama,Horror,Western, 1), List(0, Adventure,Comedy,Horror, 3), List(1, Comedy,Drama,, 1), List(0, Animation,Comedy,Family, 10), List(0, Drama,History,Sport, 1), List(0, Adventure,Drama,War, 1), List(0, Horror,,, 18), List(0, Comedy,Crime,Thriller, 2)]]"
      ]
     },
     "execution_count": 8,
     "metadata": {},
     "output_type": "execute_result"
    }
   ],
   "source": []
  },
  {
   "cell_type": "code",
   "execution_count": null,
   "id": "0e582d33",
   "metadata": {},
   "outputs": [
    {
     "name": "stdout",
     "output_type": "stream",
     "text": [
      "+----+--------------------+------------+-------------+-------------+-----------+--------------------+--------------------+---------+-----------+----------+---------+---------+---------+-------------------+-------------------+---------------+------+---------+---------+---------+------+-----+-----+------+-------+-------+------+-------+-------+-------+------+-----+--------+---+-------+------------+-------------+----------+-----------+----------------+-----------------+---------------+----------------+----------+-----------+-----------+------------+------------------+-------------------+------------------+-------------------+------------------+-------------------+----------+-----------+------------+-------------+-----------+------------+---------+\n",
      "|Year|               Movie|Oscar_winner|Oscar_nominee|Runtime (min)|Certificate|           Directors|              Actors|Metascore|IMDb_rating|IMDb_votes|RT_rating|RT_review|   Budget|Domestic (US) gross|International gross|Worldwide gross|Action|Adventure|Animation|Biography|Comedy|Crime|Drama|Family|Fantasy|History|Horror|Musical|Mystery|Romance|Sci-Fi|Sport|Thriller|War|Western|BAFTA_winner|BAFTA_nominee|DGA_winner|DGA_nominee|GG_comedy_winner|GG_comedy_nominee|GG_drama_winner|GG_drama_nominee|PGA_winner|PGA_nominee|CCMA_winner|CCMA_nominee|Golden_Palm_winner|Golden_Palm_nominee|Golden_Bear_winner|Golden_Bear_nominee|Golden_Lion_winner|Golden_Lion_nominee|PCA_winner|PCA_nominee|NYFCC_winner|NYFCC_nominee|OFCS_winner|OFCS_nominee|FilmGenre|\n",
      "+----+--------------------+------------+-------------+-------------+-----------+--------------------+--------------------+---------+-----------+----------+---------+---------+---------+-------------------+-------------------+---------------+------+---------+---------+---------+------+-----+-----+------+-------+-------+------+-------+-------+-------+------+-----+--------+---+-------+------------+-------------+----------+-----------+----------------+-----------------+---------------+----------------+----------+-----------+-----------+------------+------------------+-------------------+------------------+-------------------+------------------+-------------------+----------+-----------+------------+-------------+-----------+------------+---------+\n",
      "|1999|          Fight Club|           0|            0|          139|       R(A)|       David Fincher|['Brad Pitt', 'Ed...|       66|        8.8|   1766031|     79.0|    171.0| 65000000|           37030102|           63811448|      100841550|     0|        0|        0|        0|     0|    0|    1|     0|      0|      0|     0|      0|      0|      0|     0|    0|       0|  0|      0|           0|            0|         0|          0|               0|                0|              0|               0|         0|          0|          0|           0|                 0|                  0|                 0|                  0|                 0|                  0|         0|          0|           0|            0|          0|           1|    Drama|\n",
      "|1999|          The Matrix|           0|            0|          136|         PG|Lana Wachowski Li...|['Keanu Reeves', ...|       73|        8.7|   1592082|     87.0|    150.0| 65000000|          173396389|          292025570|      465421959|     1|        0|        0|        0|     0|    0|    0|     0|      0|      0|     0|      0|      0|      0|     1|    0|       0|  0|      0|           0|            0|         0|          0|               0|                0|              0|               0|         0|          0|          0|           0|                 0|                  0|                 0|                  0|                 0|                  0|         0|          0|           0|            0|          0|           0|   Action|\n",
      "|1999|      The Green Mile|           0|            1|          189|       R(A)|      Frank Darabont|['Tom Hanks', 'Mi...|       61|        8.6|   1080248|     78.0|    134.0| 60000000|          136801374|          153900000|      290701374|     0|        0|        0|        0|     0|    1|    1|     0|      1|      0|     0|      0|      0|      0|     0|    0|       0|  0|      0|           0|            0|         0|          1|               0|                0|              0|               0|         0|          0|          0|           1|                 0|                  0|                 0|                  0|                 0|                  0|         0|          0|           0|            0|          0|           0|    Crime|\n",
      "|1999|     American Beauty|           1|            1|          122|       R(A)|          Sam Mendes|['Kevin Spacey', ...|       84|        8.3|   1029220|     87.0|    188.0| 15000000|          130058047|          226200000|      356258047|     0|        0|        0|        0|     0|    0|    1|     0|      0|      0|     0|      0|      0|      0|     0|    0|       0|  0|      0|           1|            1|         1|          1|               0|                0|              1|               1|         1|          1|          1|           1|                 0|                  0|                 0|                  0|                 0|                  0|         1|          1|           0|            1|          1|           1|    Drama|\n",
      "|1999|     The Sixth Sense|           0|            1|          107|         PG|  M. Night Shyamalan|['Bruce Willis', ...|       64|        8.1|    877181|     86.0|    155.0| 40000000|          293506292|          379300000|      672806292|     0|        0|        0|        0|     0|    0|    1|     0|      0|      0|     0|      0|      1|      0|     0|    0|       1|  0|      0|           0|            1|         0|          1|               0|                0|              0|               0|         0|          0|          0|           1|                 0|                  0|                 0|                  0|                 0|                  0|         0|          0|           0|            0|          0|           0|    Drama|\n",
      "|1999|Star Wars: Episod...|           0|            0|          136|         PG|        George Lucas|['Ewan McGregor',...|       51|        6.5|    697391|     53.0|    228.0| 11500000|          431088295|          493216789|      924305084|     1|        1|        0|        0|     0|    0|    0|     0|      1|      0|     0|      0|      0|      0|     0|    0|       0|  0|      0|           0|            0|         0|          0|               0|                0|              0|               0|         0|          0|          0|           0|                 0|                  0|                 0|                  0|                 0|                  0|         0|          0|           0|            0|          0|           0|   Action|\n",
      "|1999|         Toy Story 2|           0|            0|           92|          G|John Lasseter Ash...|['Tom Hanks', 'Ti...|       88|        7.9|    503257|    100.0|    168.0| 90000000|          245852179|          265506097|      511358276|     0|        1|        1|        0|     1|    0|    0|     0|      0|      0|     0|      0|      0|      0|     0|    0|       0|  0|      0|           0|            0|         0|          0|               1|                1|              0|               0|         0|          0|          0|           0|                 0|                  0|                 0|                  0|                 0|                  0|         0|          0|           0|            0|          0|           1|Animation|\n",
      "|1999|           The Mummy|           0|            0|          124|         PG|     Stephen Sommers|['Brendan Fraser'...|       48|          7|    377534|     60.0|     97.0|195000000|           80101125|          329852780|      409953905|     1|        1|        0|        0|     0|    0|    0|     0|      1|      0|     0|      0|      0|      0|     0|    0|       0|  0|      0|           0|            0|         0|          0|               0|                0|              0|               0|         0|          0|          0|           0|                 0|                  0|                 0|                  0|                 0|                  0|         0|          0|           0|            0|          0|           0|   Action|\n",
      "|1999|        American Pie|           0|            0|           95|       R(A)|Paul Weitz Chris ...|['Jason Biggs', '...|       58|          7|    363158|     61.0|    128.0| 12000000|          101800948|          132922200|      234723148|     0|        0|        0|        0|     1|    0|    0|     0|      0|      0|     0|      0|      0|      0|     0|    0|       0|  0|      0|           0|            0|         0|          0|               0|                0|              0|               0|         0|          0|          0|           0|                 0|                  0|                 0|                  0|                 0|                  0|         0|          0|           0|            0|          0|           0|   Comedy|\n",
      "|1999|       Sleepy Hollow|           0|            0|          105|      NC-16|          Tim Burton|['Johnny Depp', '...|       65|        7.3|    317008|     68.0|    127.0| 70000000|          101068340|          106000000|      207068340|     0|        0|        0|        0|     0|    0|    0|     0|      1|      0|     1|      0|      1|      0|     0|    0|       0|  0|      0|           0|            0|         0|          0|               0|                0|              0|               0|         0|          0|          0|           0|                 0|                  0|                 0|                  0|                 0|                  0|         0|          0|           0|            0|          0|           0|  Fantasy|\n",
      "|1999|Being John Malkovich|           0|            0|          113|       R(A)|         Spike Jonze|['John Cusack', '...|       90|        7.7|    297515|     93.0|    133.0| 13000000|           22858926|            9523455|       32382381|     0|        0|        0|        0|     1|    0|    1|     0|      1|      0|     0|      0|      0|      0|     0|    0|       0|  0|      0|           0|            0|         0|          1|               0|                1|              0|               0|         0|          0|          0|           1|                 0|                  0|                 0|                  0|                 0|                  0|         0|          0|           0|            1|          0|           1|   Comedy|\n",
      "|1999|      Eyes Wide Shut|           0|            0|          159|       R(A)|     Stanley Kubrick|['Tom Cruise', 'N...|       68|        7.4|    286158|     75.0|    156.0| 65000000|           55691208|           48573409|      104264617|     0|        0|        0|        0|     0|    0|    1|     0|      0|      0|     0|      0|      1|      0|     0|    0|       1|  0|      0|           0|            0|         0|          0|               0|                0|              0|               0|         0|          0|          0|           0|                 0|                  0|                 0|                  0|                 0|                  0|         0|          0|           0|            0|          0|           0|    Drama|\n",
      "|1999|10 Things I Hate ...|           0|            0|           97|         PG|          Gil Junger|['Heath Ledger', ...|       70|        7.3|    282459|     68.0|     75.0| 13000000|           38177966|           22235984|       60413950|     0|        0|        0|        0|     1|    0|    1|     0|      0|      0|     0|      0|      0|      1|     0|    0|       0|  0|      0|           0|            0|         0|          0|               0|                0|              0|               0|         0|          0|          0|           0|                 0|                  0|                 0|                  0|                 0|                  0|         0|          0|           0|            0|          0|           0|   Comedy|\n",
      "|1999|            Magnolia|           0|            0|          188|       R(A)|Paul Thomas Anderson|['Tom Cruise', 'J...|       77|          8|    279355|     83.0|    146.0| 37000000|           22450975|           25995827|       48446802|     0|        0|        0|        0|     0|    0|    1|     0|      0|      0|     0|      0|      0|      0|     0|    0|       0|  0|      0|           0|            0|         0|          0|               0|                0|              0|               0|         0|          0|          0|           1|                 0|                  0|                 1|                  1|                 0|                  0|         0|          0|           0|            0|          0|           0|    Drama|\n",
      "|1999|        Notting Hill|           0|            0|          124|         PG|       Roger Michell|['Hugh Grant', 'J...|       68|        7.1|    258533|     83.0|    100.0| 42000000|          116089678|          247628518|      363718196|     0|        0|        0|        0|     1|    0|    1|     0|      0|      0|     0|      0|      0|      1|     0|    0|       0|  0|      0|           0|            0|         0|          0|               0|                1|              0|               0|         0|          0|          0|           0|                 0|                  0|                 0|                  0|                 0|                  0|         0|          0|           0|            0|          0|           0|   Comedy|\n",
      "|1999|        Office Space|           0|            0|           89|      NC-16|          Mike Judge|['Ron Livingston'...|       68|        7.7|    234014|     80.0|    100.0| 10000000|           10827813|            1351895|       12179708|     0|        0|        0|        0|     1|    0|    0|     0|      0|      0|     0|      0|      0|      0|     0|    0|       0|  0|      0|           0|            0|         0|          0|               0|                0|              0|               0|         0|          0|          0|           0|                 0|                  0|                 0|                  0|                 0|                  0|         0|          0|           0|            0|          0|           0|   Comedy|\n",
      "|1999|The Blair Witch P...|           0|            0|           81|         PG|Daniel Myrick Edu...|['Heather Donahue...|       81|        6.5|    223666|     87.0|    160.0|   600000|          140539099|          107760901|      248300000|     0|        0|        0|        0|     0|    0|    0|     0|      0|      0|     1|      0|      1|      0|     0|    0|       0|  0|      0|           0|            0|         0|          0|               0|                0|              0|               0|         0|          0|          0|           0|                 0|                  0|                 0|                  0|                 0|                  0|         0|          0|           0|            0|          0|           0|   Horror|\n",
      "|1999| The Boondock Saints|           0|            0|          108|          R|          Troy Duffy|['Willem Dafoe', ...|       44|        7.8|    222043|     22.0|     27.0|  7000000|              30471|             381403|         411874|     1|        0|        0|        0|     0|    1|    0|     0|      0|      0|     0|      0|      0|      0|     0|    0|       1|  0|      0|           0|            0|         0|          0|               0|                0|              0|               0|         0|          0|          0|           0|                 0|                  0|                 0|                  0|                 0|                  0|         0|          0|           0|            0|          0|           0|   Action|\n"
     ]
    },
    {
     "name": "stdout",
     "output_type": "stream",
     "text": [
      "|1999|Austin Powers: Th...|           0|            0|           95|         PG|           Jay Roach|['Mike Myers', 'H...|       59|        6.6|    210376|     52.0|     87.0| 35000000|          206040085|          106343402|      312383487|     1|        1|        0|        0|     1|    0|    0|     0|      0|      0|     0|      0|      0|      0|     0|    0|       0|  0|      0|           0|            0|         0|          0|               0|                0|              0|               0|         0|          0|          0|           0|                 0|                  0|                 0|                  0|                 0|                  0|         0|          0|           0|            0|          0|           0|   Action|\n",
      "|1999|               Dogma|           0|            0|          130|   (Banned)|         Kevin Smith|['Ben Affleck', '...|       62|        7.3|    203357|     67.0|    127.0| 10000000|           30651422|           13297443|       43948865|     0|        1|        0|        0|     1|    0|    1|     0|      0|      0|     0|      0|      0|      0|     0|    0|       0|  0|      0|           0|            0|         0|          0|               0|                0|              0|               0|         0|          0|          0|           0|                 0|                  0|                 0|                  0|                 0|                  0|         0|          0|           0|            0|          0|           0|Adventure|\n",
      "+----+--------------------+------------+-------------+-------------+-----------+--------------------+--------------------+---------+-----------+----------+---------+---------+---------+-------------------+-------------------+---------------+------+---------+---------+---------+------+-----+-----+------+-------+-------+------+-------+-------+-------+------+-----+--------+---+-------+------------+-------------+----------+-----------+----------------+-----------------+---------------+----------------+----------+-----------+-----------+------------+------------------+-------------------+------------------+-------------------+------------------+-------------------+----------+-----------+------------+-------------+-----------+------------+---------+\n",
      "only showing top 20 rows\n",
      "\n"
     ]
    },
    {
     "data": {
      "text/plain": [
       "org.apache.spark.sql.SparkSession$implicits$@547238f"
      ]
     },
     "execution_count": 25,
     "metadata": {},
     "output_type": "execute_result"
    }
   ],
   "source": [
    "import org.apache.spark.sql.functions.udf\n",
    "import spark.implicits._ \n",
    "val genre=(genres:String)=>{\n",
    " genres.split(\",\")(0)}\n",
    "\n",
    "val uniqueGenre=udf(genre)\n",
    "\n",
    "val oscarDF1= oscarDF\n",
    "        .withColumn(\"FilmGenre\", uniqueGenre($\"Genre\"))\n",
    "        .drop(\"Genre\")\n",
    "\n",
    "oscarDF1.show"
   ]
  },
  {
   "cell_type": "code",
   "execution_count": 27,
   "id": "53f9debe",
   "metadata": {},
   "outputs": [
    {
     "data": {
      "text/plain": [
       "[Oscar_winner: int, FilmGenre: string ... 1 more field]"
      ]
     },
     "execution_count": 27,
     "metadata": {},
     "output_type": "execute_result"
    }
   ],
   "source": [
    "val grByGenreAndWin = oscarDF1.groupBy(\"Oscar_winner\", \"FilmGenre\").count"
   ]
  },
  {
   "cell_type": "code",
   "execution_count": 28,
   "id": "eced0bb3",
   "metadata": {},
   "outputs": [
    {
     "data": {
      "text/plain": [
       "[[List(0, Drama, 325), List(1, Drama, 5), List(0, 80147166, 1), List(1, Comedy, 4), List(0, Family, 1), List(0, 102427862, 1), List(1, Adventure, 2), List(0, 90376224, 1), List(0, 1346913161, 1), List(0, 4490134, 1), List(1, Action, 1), List(0, 56797392, 1), List(0, 85911226, 1), List(0, Biography, 114), List(0, Horror, 97), List(0, Comedy, 423), List(0, 42587643, 1), List(0, Sci-Fi, 2), List(0, Mystery, 10), List(0, 115637895, 1), List(0, 145026640, 1), List(0, Fantasy, 8), List(0, 80631, 1), List(0, 14558937, 1), List(1, Biography, 6), List(0, 248757044, 1), List(0, Action, 686), List(0, 45863000, 1), List(0, Romance, 1), List(0, 16083005, 1), List(0, 76665507, 1), List(0, 33047633, 1), List(0, 81697192, 1), List(0, 20695413, 1), List(0, 161197785, 1), List(0, 58657005, 1), List(0, 24148068, 1), List(0, 11599903, 1), List(0, 39568572, 1), List(0, Crime, 125), List(0, 13472307, 1), List(0, 10561196, 1), List(0, 81578, 1), List(0, 175084580, 1), List(0, Adventure, 117), List(0, 69488745, 1), List(0, 235900000, 1), List(0, 21890189, 1), List(0, 1028570889, 1), List(0, Animation, 136), List(0, 36249674, 1), List(1, Crime, 3), List(0, 58032443, 1)]]"
      ]
     },
     "execution_count": 28,
     "metadata": {},
     "output_type": "execute_result"
    }
   ],
   "source": [
    "beakerx.grByGenreAndWin =  grByGenreAndWin.collect.map(_.toSeq.toArray)"
   ]
  }
 ],
 "metadata": {
  "kernelspec": {
   "display_name": "Scala",
   "language": "scala",
   "name": "scala"
  },
  "language_info": {
   "codemirror_mode": "text/x-scala",
   "file_extension": ".scala",
   "mimetype": "",
   "name": "Scala",
   "nbconverter_exporter": "",
   "version": "2.11.12"
  },
  "toc": {
   "base_numbering": 1,
   "nav_menu": {},
   "number_sections": false,
   "sideBar": false,
   "skip_h1_title": false,
   "title_cell": "Table of Contents",
   "title_sidebar": "Contents",
   "toc_cell": false,
   "toc_position": {},
   "toc_section_display": false,
   "toc_window_display": false
  }
 },
 "nbformat": 4,
 "nbformat_minor": 5
}
